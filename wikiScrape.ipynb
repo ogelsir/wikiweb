{
 "cells": [
  {
   "cell_type": "code",
   "execution_count": 44,
   "metadata": {
    "collapsed": true
   },
   "outputs": [],
   "source": [
    "import urllib.request\n",
    "from bs4 import BeautifulSoup as bs\n",
    "import re\n",
    "\n",
    "class page:\n",
    "    '''\n",
    "    represents a single wikipedia page\n",
    "    '''\n",
    "    subject = '' # every wikipedia page has shape 'en.wikipedia.org/wiki/subject'; the subject variable stores the last segment\n",
    "    subList = [] # stores other page objects that are found on this page\n",
    "#     scoreList = [] # stores floats representing the relevance of each page in subList to this page\n",
    "    \n",
    "    def __init__(self, mySubj):\n",
    "        '''\n",
    "        constructor for page class\n",
    "        mySubj is a string representing the desired subject\n",
    "        '''\n",
    "        self.subject = mySubj\n",
    "        response = urllib.request.urlopen('https://en.wikipedia.org/wiki/' + self.subject)\n",
    "        html = response.read()\n",
    "        soup = bs(html,'lxml')\n",
    "#         for url in soup.find_all('a'):\n",
    "#             if '/wiki/' in url:\n",
    "                \n",
    "        \n",
    "        \n",
    "    def addPage(subject):\n",
    "        '''\n",
    "        adds a page to subList\n",
    "#         adds a score to scoreList\n",
    "        @param subject is a string\n",
    "        '''\n",
    "    \n",
    "    def getSubList():\n",
    "        '''\n",
    "        getter method for subList\n",
    "        '''\n",
    "        return subList\n",
    "    \n",
    "#     def get scoreList():\n",
    "#         '''\n",
    "#         getter method for scoreList\n",
    "#         '''\n",
    "#         return scoreList\n",
    "        \n",
    "    def setScoreList(appearances):\n",
    "        '''\n",
    "        mutator method for subList\n",
    "        '''\n",
    "        "
   ]
  },
  {
   "cell_type": "code",
   "execution_count": 45,
   "metadata": {},
   "outputs": [
    {
     "name": "stdout",
     "output_type": "stream",
     "text": [
      "mathematics\n"
     ]
    }
   ],
   "source": [
    "mathPage = page('mathematics')\n",
    "\n",
    "print(mathPage.subject)"
   ]
  },
  {
   "cell_type": "code",
   "execution_count": null,
   "metadata": {
    "collapsed": true
   },
   "outputs": [],
   "source": []
  }
 ],
 "metadata": {
  "kernelspec": {
   "display_name": "Python 3",
   "language": "python",
   "name": "python3"
  },
  "language_info": {
   "codemirror_mode": {
    "name": "ipython",
    "version": 3
   },
   "file_extension": ".py",
   "mimetype": "text/x-python",
   "name": "python",
   "nbconvert_exporter": "python",
   "pygments_lexer": "ipython3",
   "version": "3.6.1"
  }
 },
 "nbformat": 4,
 "nbformat_minor": 2
}
