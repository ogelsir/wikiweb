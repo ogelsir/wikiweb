{
 "cells": [
  {
   "cell_type": "code",
   "execution_count": 3,
   "metadata": {
    "collapsed": true
   },
   "outputs": [],
   "source": [
    "import urllib.request\n",
    "from bs4 import BeautifulSoup as bs\n",
    "import re\n",
    "import networkx as nx\n",
    "import matplotlib.pyplot as plt\n",
    "%matplotlib inline"
   ]
  },
  {
   "cell_type": "code",
   "execution_count": 10,
   "metadata": {
    "collapsed": true
   },
   "outputs": [],
   "source": [
    "class Page:\n",
    "    '''\n",
    "    represents a single wikipedia page\n",
    "    '''    \n",
    "    def __init__(self, mySubj, myTier, myStop):\n",
    "        '''\n",
    "        constructor for page class\n",
    "        mySubj is a string representing the desired subject\n",
    "        '''\n",
    "        self.tier = myTier # the tier of this page\n",
    "        self.stop = myStop # which tier to not include\n",
    "        self.subject = mySubj # every wikipedia page has shape 'en.wikipedia.org/wiki/subject'; the subject variable stores the last segment\n",
    "        self.subList = [] # stores other page objects that are found on this page\n",
    "        self.strList = [] # stores strings representing the names of the page objects\n",
    "        self.scoreList = [] # stores floats representing the relevance of each page in subList to this page        \n",
    "        if(self.tier < self.stop):\n",
    "            response = urllib.request.urlopen('https://en.wikipedia.org/wiki/' + self.subject)\n",
    "            html = response.read()\n",
    "            soup = bs(html,'lxml')\n",
    "            for par in soup.find_all('p'):\n",
    "                for link in par.find_all('a', href=True):\n",
    "                    url = link.get('href')\n",
    "                    if(url.startswith('/wiki/')) and (':' not in url):\n",
    "                        curSubj = '_'\n",
    "                        if('#' in url):\n",
    "                            hashLoc = url.find('#')\n",
    "                            curSubj = url[6:hashLoc]\n",
    "                        else:\n",
    "                            curSubj = url[6:]\n",
    "                        curPage = Page(curSubj, self.tier + 1, self.stop)\n",
    "                        self.subList.append(curPage)\n",
    "                        self.strList.append(str(curPage))\n",
    "        for pg in self.subList:\n",
    "            self.scoreList.append(self.getScore(pg))\n",
    "    \n",
    "    def fillScoreList(self):\n",
    "        for pg in self.subList:\n",
    "            self.scoreList.append(self.getScore(pg))\n",
    "    \n",
    "    def getScoreList(self):\n",
    "        return self.scoreList\n",
    "    \n",
    "    def getScore(self, aPage):\n",
    "        '''\n",
    "        returns a float between 0 and 1 representing the correlation between self and aPage\n",
    "        @param aPage is another Page object\n",
    "        \n",
    "        score is calculated by len(intersection)/ avg(len(self),len(aPage))\n",
    "        '''\n",
    "        selfList = self.getStrList()\n",
    "        aList = aPage.getStrList()\n",
    "        intersect = len([x for x in selfList if x in aList])\n",
    "        selfLen = len(selfList)\n",
    "        otherLen = len(aList)\n",
    "        score = intersect/((selfLen + otherLen)/2)\n",
    "        return score        \n",
    "    \n",
    "    def getSubList(self):\n",
    "        return self.subList\n",
    "    \n",
    "    def getStrList(self):\n",
    "        return self.strList\n",
    "    \n",
    "    def getTier(self):\n",
    "        return self.tier\n",
    "    \n",
    "    def getStop(self):\n",
    "        return self.stop\n",
    "#     def get scoreList():\n",
    "#         '''\n",
    "#         getter method for scoreList\n",
    "#         '''\n",
    "#         return scoreList\n",
    "        \n",
    "    def __str__(self):\n",
    "        return self.subject"
   ]
  },
  {
   "cell_type": "code",
   "execution_count": 5,
   "metadata": {
    "collapsed": true
   },
   "outputs": [],
   "source": [
    "def nextTier(center, g):\n",
    "    '''\n",
    "    creates the next layer\n",
    "    @param center is a Page object\n",
    "    @param g is a nx graph object\n",
    "    '''\n",
    "    tier = center.getTier() # tier of center\n",
    "    stop = center.getStop()\n",
    "    pages = center.getSubList() # list of pages\n",
    "    names = center.getStrList() # list of strings\n",
    "    scores = center.getScoreList() # list of floats\n",
    "    if(tier < stop): # check if there's anymore nodes to plot\n",
    "        for x in range(0, len(names)):\n",
    "            pg = pages[x]\n",
    "            pgStr = names[x]\n",
    "            score = scores[x]\n",
    "            g.add_node(str(pg), {'tier': pg.getTier()})\n",
    "            g.add_edge(str(center),str(pg), weight = score * 0.25)\n",
    "            nextTier(pg, g)  \n",
    "\n",
    "def createWeb(center, g):\n",
    "    '''\n",
    "    creates entire web\n",
    "    @param center is a Page object of tier 0\n",
    "    @param g is a nx graph object\n",
    "    '''\n",
    "    tier = center.getTier()\n",
    "    g.add_node(str(center), {'tier': tier}) #center.getTier() should = 0\n",
    "    nextTier(center, g) "
   ]
  },
  {
   "cell_type": "code",
   "execution_count": 6,
   "metadata": {},
   "outputs": [],
   "source": [
    "myPage = Page('mathematics',0,2)\n",
    "graph = nx.Graph()"
   ]
  },
  {
   "cell_type": "code",
   "execution_count": 7,
   "metadata": {},
   "outputs": [],
   "source": [
    "createWeb(myPage, graph)"
   ]
  },
  {
   "cell_type": "code",
   "execution_count": 8,
   "metadata": {},
   "outputs": [
    {
     "name": "stdout",
     "output_type": "stream",
     "text": [
      "19617\n"
     ]
    }
   ],
   "source": [
    "print(graph.number_of_nodes())"
   ]
  },
  {
   "cell_type": "code",
   "execution_count": 9,
   "metadata": {},
   "outputs": [
    {
     "data": {
      "image/png": "[encoded data removed]",
      "text/plain": [
       "<matplotlib.figure.Figure at 0x120ee47d0b8>"
      ]
     },
     "metadata": {},
     "output_type": "display_data"
    }
   ],
   "source": [
    "nx.draw_networkx(graph, with_labels = False, node_size = 2, linewidths = 0.2)\n",
    "fig = plt.gcf()\n",
    "fig.savefig(\"graph.pdf\")"
   ]
  },
  {
   "cell_type": "code",
   "execution_count": null,
   "metadata": {
    "collapsed": true
   },
   "outputs": [],
   "source": []
  }
 ],
 "metadata": {
  "kernelspec": {
   "display_name": "Python 3",
   "language": "python",
   "name": "python3"
  },
  "language_info": {
   "codemirror_mode": {
    "name": "ipython",
    "version": 3
   },
   "file_extension": ".py",
   "mimetype": "text/x-python",
   "name": "python",
   "nbconvert_exporter": "python",
   "pygments_lexer": "ipython3",
   "version": "3.6.1"
  }
 },
 "nbformat": 4,
 "nbformat_minor": 2
}
