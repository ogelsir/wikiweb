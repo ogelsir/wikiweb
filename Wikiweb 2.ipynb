{
 "cells": [
  {
   "cell_type": "code",
   "execution_count": 4,
   "metadata": {
    "collapsed": true
   },
   "outputs": [],
   "source": [
    "import urllib.request\n",
    "from bs4 import BeautifulSoup as bs\n",
    "import re\n",
    "import networkx as nx\n",
    "import matplotlib.pyplot as plt\n",
    "%matplotlib inline\n",
    "import pandas as pd\n",
    "import numpy as np"
   ]
  },
  {
   "cell_type": "code",
   "execution_count": 5,
   "metadata": {
    "collapsed": true
   },
   "outputs": [],
   "source": [
    "class Page:\n",
    "    \n",
    "    def __init__(self, myStart, myStop):\n",
    "        self.start = myStart #myStart is a STRING, representing the name of the start article\n",
    "        self.stop = myStop #myStop is an INT, reprsenting what tier to stop at\n",
    "        self.nodes = []\n",
    "        self.edges = []\n",
    "        self.scores = {} # correlates with nodes\n",
    "        self.tiers = {} # correlates with nodes\n",
    "        self.mainTags = [] # tags of the start article\n",
    "        self.findAll(myStop)\n",
    "\n",
    "    def findTags(node):\n",
    "        myTags = []\n",
    "        \n",
    "        response = urllib.request.urlopen('https://en.wikipedia.org/wiki/' + node)\n",
    "        html = response.read().decode('utf-8')\n",
    "        seg = re.findall('\\<div id=\"catlinks\".*\\<div', str(html))[0]\n",
    "        soup = bs(seg, 'lxml')\n",
    "        for link in soup.find_all('a', href=True):\n",
    "            url = link.get('href')\n",
    "            if(url.startswith('/wiki/Category:')):\n",
    "                cat = url[15:]\n",
    "                myTags.append(cat)\n",
    "        return myTags\n",
    "    \n",
    "    def tagScore(node1, node2):\n",
    "        tags1 = Page.findTags(node1)\n",
    "        tags2 = Page.findTags(node2)\n",
    "        intersect = len( [x for x in tags1 if x in tags2] )\n",
    "        len1 = len( tags1 )\n",
    "        len2 = len( tags2 )\n",
    "        score = float(intersect)/((len1 + len2)/2)\n",
    "        score = int(score*100)\n",
    "        return score\n",
    "    \n",
    "    def findAll(self, n):\n",
    "        '''\n",
    "        finds all nodes n branches away from self.start\n",
    "        @param n is an int\n",
    "        '''\n",
    "        tier = 0\n",
    "        self.nodes.append(self.start)\n",
    "        self.scores[self.start] = Page.tagScore(str(self),str(self))\n",
    "        self.tiers[self.start] = str(tier)\n",
    "        self.findNext(self.start, 0, n)\n",
    "        self.mainTags = Page.findTags(str(self))\n",
    "        for string in Page.findTags(self.start):\n",
    "            for word in string.split('_'):\n",
    "                self.mainTags.append(word)\n",
    "\n",
    "    def findNext(self, centerA, tier, n):\n",
    "        if(tier < n):\n",
    "            fooNodes = self.findTier(centerA)\n",
    "            for s in fooNodes:\n",
    "                if( s not in self.nodes):\n",
    "                    self.nodes.append(s)\n",
    "                    self.scores[s] = Page.tagScore(str(self), s)\n",
    "                    self.tiers[s] = str(tier)\n",
    "                    self.edges.append( (s, centerA) )\n",
    "                    centerA = s\n",
    "                    self.findNext(centerA, tier + 1, n)\n",
    "\n",
    "    def findTier(self, centerB):\n",
    "        '''\n",
    "        finds all nodes 1 branch away from centerB\n",
    "        @param centerB is a string representing a wikipedia article title\n",
    "        '''\n",
    "        nodeList = []\n",
    "        response = urllib.request.urlopen('https://en.wikipedia.org/wiki/' + centerB)\n",
    "        html = response.read()\n",
    "        soup = bs(html,'lxml')\n",
    "        for par in soup.find_all('p'):\n",
    "            for link in par.find_all('a', href=True):\n",
    "                url = link.get('href')\n",
    "                if(url.startswith('/wiki/')) and (':' not in url):\n",
    "                    if('#' in url):\n",
    "                        hashLoc = url.find('#')\n",
    "                        curSubj = url[6:hashLoc]\n",
    "                    else:\n",
    "                        curSubj = url[6:]\n",
    "                    nodeList.append(curSubj)\n",
    "        return nodeList\n",
    "    \n",
    "    def getNodes(self):\n",
    "        return self.nodes\n",
    "    def getEdges(self):\n",
    "        return self.edges\n",
    "    def getMainTags(self):\n",
    "        return self.mainTags\n",
    "    def getScores(self):\n",
    "        return self.scores\n",
    "    def getTiers(self):\n",
    "        return self.tiers\n",
    "    \n",
    "    def __str__(self):\n",
    "        return self.start"
   ]
  },
  {
   "cell_type": "code",
   "execution_count": null,
   "metadata": {
    "scrolled": true
   },
   "outputs": [],
   "source": [
    "sci = Page('science', 2)"
   ]
  },
  {
   "cell_type": "code",
   "execution_count": null,
   "metadata": {},
   "outputs": [],
   "source": [
    "math = Page('mathematics', 2)"
   ]
  },
  {
   "cell_type": "code",
   "execution_count": null,
   "metadata": {
    "collapsed": true
   },
   "outputs": [],
   "source": [
    "lit = Page('literature', 2)"
   ]
  },
  {
   "cell_type": "code",
   "execution_count": null,
   "metadata": {
    "collapsed": true
   },
   "outputs": [],
   "source": [
    "hist = Page('history', 2)"
   ]
  },
  {
   "cell_type": "code",
   "execution_count": null,
   "metadata": {
    "collapsed": true
   },
   "outputs": [],
   "source": [
    "art = Page('art', 2)"
   ]
  },
  {
   "cell_type": "code",
   "execution_count": null,
   "metadata": {
    "collapsed": true
   },
   "outputs": [],
   "source": [
    "cs = Page('computer_science', 2)"
   ]
  },
  {
   "cell_type": "code",
   "execution_count": null,
   "metadata": {
    "collapsed": true
   },
   "outputs": [],
   "source": [
    "colormap = {'0': 'red', '1':'orange', '2':'green', '3':'blue', '4':'purple'}\n",
    "\n",
    "def graph(page):\n",
    "    graph = nx.Graph()\n",
    "    nodes = page.getNodes()\n",
    "    edges = page.getEdges()\n",
    "    scores = page.getScores()\n",
    "    tiers = page.getTiers()\n",
    "    for node in nodes:\n",
    "        graph.add_node(node)\n",
    "    for node_a, node_b in edges:\n",
    "        graph.add_edge(node_a, node_b)\n",
    "\n",
    "    pos=nx.spring_layout(graph)      \n",
    "    sizes = [scores[node] for node in graph.nodes_iter()]\n",
    "    colors = [colormap[tiers[node]] for node in graph.nodes_iter()]\n",
    "    nx.draw_networkx_nodes(graph ,pos, node_size=sizes, alpha=0.8, node_color = colors)\n",
    "    nx.draw_networkx_edges(graph, pos, width = 0.1, alpha = 0.5)\n",
    "    fig = plt.gcf()\n",
    "    fig.savefig(str(page)+'.pdf')"
   ]
  },
  {
   "cell_type": "code",
   "execution_count": null,
   "metadata": {
    "collapsed": true
   },
   "outputs": [],
   "source": [
    "graph(sci)"
   ]
  },
  {
   "cell_type": "code",
   "execution_count": null,
   "metadata": {
    "collapsed": true
   },
   "outputs": [],
   "source": [
    "graph(math)"
   ]
  },
  {
   "cell_type": "code",
   "execution_count": null,
   "metadata": {
    "collapsed": true
   },
   "outputs": [],
   "source": [
    "graph(lit)"
   ]
  },
  {
   "cell_type": "code",
   "execution_count": null,
   "metadata": {
    "collapsed": true
   },
   "outputs": [],
   "source": [
    "graph(hist)"
   ]
  },
  {
   "cell_type": "code",
   "execution_count": null,
   "metadata": {
    "collapsed": true
   },
   "outputs": [],
   "source": [
    "graph(art)"
   ]
  },
  {
   "cell_type": "code",
   "execution_count": null,
   "metadata": {
    "collapsed": true
   },
   "outputs": [],
   "source": [
    "graph(cs)"
   ]
  }
 ],
 "metadata": {
  "kernelspec": {
   "display_name": "Python 3",
   "language": "python",
   "name": "python3"
  },
  "language_info": {
   "codemirror_mode": {
    "name": "ipython",
    "version": 3
   },
   "file_extension": ".py",
   "mimetype": "text/x-python",
   "name": "python",
   "nbconvert_exporter": "python",
   "pygments_lexer": "ipython3",
   "version": "3.6.1"
  }
 },
 "nbformat": 4,
 "nbformat_minor": 2
}
