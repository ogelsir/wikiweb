{
 "cells": [
  {
   "cell_type": "code",
   "execution_count": null,
   "metadata": {},
   "outputs": [],
   "source": [
    "import urllib.request\n",
    "from bs4 import BeautifulSoup as bs\n",
    "import re\n",
    "\n",
    "class Page:\n",
    "    '''\n",
    "    represents a single wikipedia page\n",
    "    '''\n",
    "    subject = '' # every wikipedia page has shape 'en.wikipedia.org/wiki/subject'; the subject variable stores the last segment\n",
    "    subList = [] # stores other page objects that are found on this page\n",
    "#     scoreList = [] # stores floats representing the relevance of each page in subList to this page\n",
    "    tier = -1 # the tier of this page\n",
    "    stop = -1 # which tier to not include\n",
    "    \n",
    "    def __init__(self, mySubj, myTier, myStop):\n",
    "        '''\n",
    "        constructor for page class\n",
    "        mySubj is a string representing the desired subject\n",
    "        '''\n",
    "        self.tier = myTier\n",
    "        self.stop = myStop\n",
    "        self.subject = mySubj\n",
    "        response = urllib.request.urlopen('https://en.wikipedia.org/wiki/' + self.subject)\n",
    "        html = response.read()\n",
    "        soup = bs(html,'lxml')\n",
<<<<<<< HEAD
    "#         for url in soup.find_all('a'):\n",
    "#             if '/wiki/' in url:\n",
    "                \n",
    "        \n",
    "        \n",
=======
    "        for par in soup.find_all('p'):\n",
    "            for link in par.find_all('a', href=True):\n",
    "                url = link.get('href')\n",
    "                if(url.startswith('/wiki/')) and (':' not in url):\n",
    "                    if('#' in url):\n",
    "                        hashLoc = url.find('#')\n",
    "                        curSubj = url[6:hashLoc]\n",
    "                    else:\n",
    "                        curSubj = url[6:]\n",
    "                    curPage = Page(curSubj, self.tier + 1, self.stop)\n",
    "                    self.subList.append(curPage)\n",
    "                    print(self.subList[0])\n",
    "\n",
>>>>>>> origin/master
    "    def addPage(subject):\n",
    "        '''\n",
    "        adds a page to subList\n",
    "#         adds a score to scoreList\n",
    "        @param subject is a string\n",
    "        '''\n",
    "    \n",
    "    def getSubList():\n",
    "        '''\n",
    "        getter method for subList\n",
    "        '''\n",
    "        return self.subList\n",
    "    \n",
    "#     def get scoreList():\n",
    "#         '''\n",
    "#         getter method for scoreList\n",
    "#         '''\n",
    "#         return scoreList\n",
    "        \n",
<<<<<<< HEAD
    "    def setScoreList(appearances):\n",
    "        '''\n",
    "        mutator method for subList\n",
    "        '''\n",
    "        "
=======
    "    def __str__():\n",
    "        return subject"
>>>>>>> origin/master
   ]
  },
  {
   "cell_type": "code",
   "execution_count": null,
   "metadata": {},
   "outputs": [],
   "source": [
    "mathPage = Page('mathematics', 0, 4)\n",
    "\n",
    "print(mathPage)\n",
    "\n",
    "for elem in mathPage.getSubList():\n",
    "    print(elem)"
   ]
  },
  {
   "cell_type": "code",
   "execution_count": null,
   "metadata": {
    "collapsed": true
   },
   "outputs": [],
   "source": []
  }
 ],
 "metadata": {
  "kernelspec": {
   "display_name": "Python 3",
   "language": "python",
   "name": "python3"
  }
 },
 "nbformat": 4,
 "nbformat_minor": 2
}
