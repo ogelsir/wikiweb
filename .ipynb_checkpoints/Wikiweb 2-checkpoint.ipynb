{
 "cells": [
  {
   "cell_type": "code",
   "execution_count": 1,
   "metadata": {
    "collapsed": true
   },
   "outputs": [],
   "source": [
    "import urllib.request\n",
    "from bs4 import BeautifulSoup as bs\n",
    "import re\n",
    "import networkx as nx\n",
    "import matplotlib.pyplot as plt\n",
    "%matplotlib inline"
   ]
  },
  {
   "cell_type": "code",
   "execution_count": 7,
   "metadata": {},
   "outputs": [],
   "source": [
    "class Page:\n",
    "    \n",
    "    def __init__(self, myStart):\n",
    "        self.start = myStart\n",
    "        self.nodes = []\n",
    "        self.edges = []\n",
    "        self.centerTags = []\n",
    "\n",
    "    # def findTags(node):\n",
    "\n",
    "\n",
    "    def findAll(self, n):\n",
    "        '''\n",
    "        finds all nodes n branches away from center\n",
    "        @param center is a string representing a wikipedia article title\n",
    "        @param n is an int\n",
    "        '''\n",
    "        tier = 0\n",
    "        findNext(self.start, 0, n)\n",
    "\n",
    "    def findNext(center, tier, n):\n",
    "        if(tier + 1 < n):\n",
    "            fooNodes = findTier(center)\n",
    "            for s in fooNodes:\n",
    "                if( s not in nodes):\n",
    "                    nodes.append(s)\n",
    "                    edges.append( sorted([center, s]))\n",
    "                    findNext(s, tier + 1, n)\n",
    "\n",
    "    def findTier(center):\n",
    "        '''\n",
    "        finds all nodes 1 branch away from center\n",
    "        @param center is a string representing a wikipedia article title\n",
    "        '''\n",
    "        nodeList = []\n",
    "        response = urllib.request.urlopen('https://en.wikipedia.org/wiki/' + center)\n",
    "        html = response.read()\n",
    "        soup = bs(html,'lxml')\n",
    "        for par in soup.find_all('p'):\n",
    "            for link in par.find_all('a', href=True):\n",
    "                url = link.get('href')\n",
    "                if(url.startswith('/wiki/')) and (':' not in url):\n",
    "                    if('#' in url):\n",
    "                        hashLoc = url.find('#')\n",
    "                        curSubj = url[6:hashLoc]\n",
    "                    else:\n",
    "                        curSubj = url[6:]\n",
    "                    nodeList.append(curSubj)\n",
    "        return nodeList\n",
    "\n",
    "    def getNodes(self):\n",
    "        return nodes\n",
    "    def getEdges(self):\n",
    "        return edges"
   ]
  },
  {
   "cell_type": "code",
   "execution_count": 6,
   "metadata": {},
   "outputs": [
    {
     "ename": "NameError",
     "evalue": "name 'findNext' is not defined",
     "output_type": "error",
     "traceback": [
      "\u001b[1;31m---------------------------------------------------------------------------\u001b[0m",
      "\u001b[1;31mNameError\u001b[0m                                 Traceback (most recent call last)",
      "\u001b[1;32m<ipython-input-6-04f28132a939>\u001b[0m in \u001b[0;36m<module>\u001b[1;34m()\u001b[0m\n\u001b[0;32m      1\u001b[0m \u001b[0mpg\u001b[0m \u001b[1;33m=\u001b[0m \u001b[0mPage\u001b[0m\u001b[1;33m(\u001b[0m\u001b[1;34m'science'\u001b[0m\u001b[1;33m)\u001b[0m\u001b[1;33m\u001b[0m\u001b[0m\n\u001b[1;32m----> 2\u001b[1;33m \u001b[0mpg\u001b[0m\u001b[1;33m.\u001b[0m\u001b[0mfindAll\u001b[0m\u001b[1;33m(\u001b[0m\u001b[1;36m3\u001b[0m\u001b[1;33m)\u001b[0m\u001b[1;33m\u001b[0m\u001b[0m\n\u001b[0m\u001b[0;32m      3\u001b[0m \u001b[1;33m\u001b[0m\u001b[0m\n\u001b[0;32m      4\u001b[0m \u001b[0mprint\u001b[0m\u001b[1;33m(\u001b[0m\u001b[1;34m'nodes------------------------------------------------------------------------------------------'\u001b[0m\u001b[1;33m)\u001b[0m\u001b[1;33m\u001b[0m\u001b[0m\n\u001b[0;32m      5\u001b[0m \u001b[0mprint\u001b[0m\u001b[1;33m(\u001b[0m\u001b[0mlen\u001b[0m\u001b[1;33m(\u001b[0m\u001b[0mpg\u001b[0m\u001b[1;33m.\u001b[0m\u001b[0mgetNodes\u001b[0m\u001b[1;33m(\u001b[0m\u001b[1;33m)\u001b[0m\u001b[1;33m)\u001b[0m\u001b[1;33m)\u001b[0m\u001b[1;33m\u001b[0m\u001b[0m\n",
      "\u001b[1;32m<ipython-input-4-d05c914f01f2>\u001b[0m in \u001b[0;36mfindAll\u001b[1;34m(self, n)\u001b[0m\n\u001b[0;32m     17\u001b[0m         '''\n\u001b[0;32m     18\u001b[0m         \u001b[0mtier\u001b[0m \u001b[1;33m=\u001b[0m \u001b[1;36m0\u001b[0m\u001b[1;33m\u001b[0m\u001b[0m\n\u001b[1;32m---> 19\u001b[1;33m         \u001b[0mfindNext\u001b[0m\u001b[1;33m(\u001b[0m\u001b[0mself\u001b[0m\u001b[1;33m.\u001b[0m\u001b[0mstart\u001b[0m\u001b[1;33m,\u001b[0m \u001b[1;36m0\u001b[0m\u001b[1;33m,\u001b[0m \u001b[0mn\u001b[0m\u001b[1;33m)\u001b[0m\u001b[1;33m\u001b[0m\u001b[0m\n\u001b[0m\u001b[0;32m     20\u001b[0m \u001b[1;33m\u001b[0m\u001b[0m\n\u001b[0;32m     21\u001b[0m     \u001b[1;32mdef\u001b[0m \u001b[0mfindNext\u001b[0m\u001b[1;33m(\u001b[0m\u001b[0mcenter\u001b[0m\u001b[1;33m,\u001b[0m \u001b[0mtier\u001b[0m\u001b[1;33m,\u001b[0m \u001b[0mn\u001b[0m\u001b[1;33m)\u001b[0m\u001b[1;33m:\u001b[0m\u001b[1;33m\u001b[0m\u001b[0m\n",
      "\u001b[1;31mNameError\u001b[0m: name 'findNext' is not defined"
     ]
    }
   ],
   "source": [
    "pg = Page('science')\n",
    "pg.findAll(3)\n",
    "\n",
    "print('nodes------------------------------------------------------------------------------------------')\n",
    "print(len(pg.getNodes()))\n",
    "for e in pg.getNodes():\n",
    "    print(e)\n",
    "    \n",
    "print('edges------------------------------------------------------------------------------------------')\n",
    "print(len(pg.getEdges()))\n",
    "for e in pg.getEdges():\n",
    "    print(e)\n",
    "    "
   ]
  },
  {
   "cell_type": "code",
   "execution_count": null,
   "metadata": {
    "collapsed": true
   },
   "outputs": [],
   "source": []
  }
 ],
 "metadata": {
  "kernelspec": {
   "display_name": "Python 3",
   "language": "python",
   "name": "python3"
  },
  "language_info": {
   "codemirror_mode": {
    "name": "ipython",
    "version": 3
   },
   "file_extension": ".py",
   "mimetype": "text/x-python",
   "name": "python",
   "nbconvert_exporter": "python",
   "pygments_lexer": "ipython3",
   "version": "3.6.1"
  }
 },
 "nbformat": 4,
 "nbformat_minor": 2
}
