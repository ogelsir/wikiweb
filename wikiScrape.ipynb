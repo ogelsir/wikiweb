{
 "cells": [
  {
   "cell_type": "code",
   "execution_count": 44,
   "metadata": {},
   "outputs": [],
   "source": [
    "import urllib.request\n",
    "from bs4 import BeautifulSoup as bs\n",
    "import re\n",
    "\n",
    "class Page:\n",
    "    '''\n",
    "    represents a single wikipedia page\n",
    "    '''\n",
    "    def __init__(self, mySubj, myTier, myStop):\n",
    "        '''\n",
    "        constructor for page class\n",
    "        mySubj is a string representing the desired subject\n",
    "        '''\n",
    "        self.tier = myTier # the tier of this page\n",
    "        self.stop = myStop # which tier to not include\n",
    "        self.subject = mySubj # every wikipedia page has shape 'en.wikipedia.org/wiki/subject'; the subject variable stores the last segment\n",
    "        self.subList = [] # stores other page objects that are found on this page\n",
    "        self.strList = [] # stores strings representing the names of the page objects\n",
    "        self.scoreList = [] # stores floats representing the relevance of each page in subList to this page        \n",
    "        if(self.tier != self.stop):\n",
    "            response = urllib.request.urlopen('https://en.wikipedia.org/wiki/' + self.subject)\n",
    "            html = response.read()\n",
    "            soup = bs(html,'lxml')\n",
    "            for par in soup.find_all('p'):\n",
    "                for link in par.find_all('a', href=True):\n",
    "                    url = link.get('href')\n",
    "                    if(url.startswith('/wiki/')) and (':' not in url):\n",
    "                        curSubj = '_'\n",
    "                        if('#' in url):\n",
    "                            hashLoc = url.find('#')\n",
    "                            curSubj = url[6:hashLoc]\n",
    "                        else:\n",
    "                            curSubj = url[6:]\n",
    "                        curPage = Page(curSubj, self.tier + 1, self.stop)\n",
    "                        self.subList.append(curPage)\n",
    "                        self.strList.append(str(curPage))\n",
    "    \n",
    "    def fillScoreList(self):\n",
    "        for pg in subList:\n",
    "            self.scoreList.append(self.getScore(pg))\n",
    "    \n",
    "    def getScoreList(self):\n",
    "        return self.scoreList\n",
    "    \n",
    "    def getScore(self, aPage):\n",
    "        '''\n",
    "        returns a float between 0 and 1 representing the correlation between self and aPage\n",
    "        @param aPage is another Page object\n",
    "        \n",
    "        score is calculated by len(intersection)/ avg(len(self),len(aPage))\n",
    "        '''\n",
    "        selfList = self.getStrList()\n",
    "        aList = aPage.getStrList()\n",
    "        intersect = len([x for x in selfList if x in aList])\n",
    "        selfLen = len(selfList)\n",
    "        otherLen = len(aList)\n",
    "        score = intersect/((selfLen + otherLen)/2)\n",
    "        return score        \n",
    "    \n",
    "    def getSubList(self):\n",
    "        return self.subList\n",
    "    \n",
    "    def getStrList(self):\n",
    "        return self.strList\n",
    "    \n",
    "#     def get scoreList():\n",
    "#         '''\n",
    "#         getter method for scoreList\n",
    "#         '''\n",
    "#         return scoreList\n",
    "        \n",
    "    def __str__(self):\n",
    "        return self.subject"
   ]
  },
  {
   "cell_type": "code",
   "execution_count": null,
   "metadata": {},
   "outputs": [],
   "source": [
    "aPage = Page('mathematics', 0, 3)\n",
    "aPage.fillScoreList()\n",
    "for e in aPage.getScoreList():\n",
    "    print(e)"
   ]
  },
  {
   "cell_type": "code",
   "execution_count": null,
   "metadata": {},
   "outputs": [],
   "source": [
    "# aPage = Page('science', 0, 3)\n",
    "# bPage = Page('mathematics', 0, 3)"
   ]
  },
  {
   "cell_type": "code",
   "execution_count": null,
   "metadata": {},
   "outputs": [],
   "source": [
    "# print('aPage = ' + str(aPage) + ' | ' + str(len(aPage.getSubList())))\n",
    "# print('bPage = ' + str(bPage) +  ' | ' + str(len(bPage.getSubList())))\n",
    "\n",
    "# print('-----------------------------------')\n",
    "\n",
    "# for pg in aPage.getSubList():\n",
    "#     print(pg)\n",
    "    \n",
    "# print('-----------------------------------')\n",
    "\n",
    "# for pg in bPage.getSubList():\n",
    "#     print(pg)"
   ]
  },
  {
   "cell_type": "code",
   "execution_count": null,
   "metadata": {},
   "outputs": [],
   "source": [
    "# aPage.getScore(bPage)"
   ]
  },
  {
   "cell_type": "code",
   "execution_count": null,
   "metadata": {
    "collapsed": true
   },
   "outputs": [],
   "source": []
  }
 ],
 "metadata": {
  "kernelspec": {
   "display_name": "Python 3",
   "language": "python",
   "name": "python3"
  },
  "language_info": {
   "codemirror_mode": {
    "name": "ipython",
    "version": 3
   },
   "file_extension": ".py",
   "mimetype": "text/x-python",
   "name": "python",
   "nbconvert_exporter": "python",
   "pygments_lexer": "ipython3",
   "version": "3.6.1"
  }
 },
 "nbformat": 4,
 "nbformat_minor": 2
}
