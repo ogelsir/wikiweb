{
 "cells": [
  {
   "cell_type": "code",
   "execution_count": 29,
   "metadata": {
    "collapsed": true
   },
   "outputs": [],
   "source": [
    "import urllib.request\n",
    "from bs4 import BeautifulSoup as bs\n",
    "import re\n",
    "import networkx as nx\n",
    "import matplotlib.pyplot as plt\n",
    "%matplotlib inline"
   ]
  },
  {
   "cell_type": "code",
   "execution_count": 36,
   "metadata": {},
   "outputs": [],
   "source": [
    "class Page:\n",
    "    \n",
    "    def __init__(self, myStart):\n",
    "        self.start = myStart\n",
    "        self.nodes = []\n",
    "        self.edges = []\n",
    "        self.centerTags = []\n",
    "\n",
    "    # def findTags(node):\n",
    "\n",
    "\n",
    "    def findAll(self, n):\n",
    "        '''\n",
    "        finds all nodes n branches away from center\n",
    "        @param center is a string representing a wikipedia article title\n",
    "        @param n is an int\n",
    "        '''\n",
    "        tier = 0\n",
    "        self.findNext(self.start, 0, n)\n",
    "\n",
    "    def findNext(self, center, tier, n):\n",
    "        if(tier + 1 < n):\n",
    "            fooNodes = self.findTier(center)\n",
    "            for s in fooNodes:\n",
    "                if( s not in self.nodes):\n",
    "                    self.nodes.append(s)\n",
    "                    self.edges.append( sorted([center, s]))\n",
    "                    self.findNext(s, tier + 1, n)\n",
    "\n",
    "    def findTier(self, center):\n",
    "        '''\n",
    "        finds all nodes 1 branch away from center\n",
    "        @param center is a string representing a wikipedia article title\n",
    "        '''\n",
    "        nodeList = []\n",
    "        response = urllib.request.urlopen('https://en.wikipedia.org/wiki/' + center)\n",
    "        html = response.read()\n",
    "        soup = bs(html,'lxml')\n",
    "        for par in soup.find_all('p'):\n",
    "            for link in par.find_all('a', href=True):\n",
    "                url = link.get('href')\n",
    "                if(url.startswith('/wiki/')) and (':' not in url):\n",
    "                    if('#' in url):\n",
    "                        hashLoc = url.find('#')\n",
    "                        curSubj = url[6:hashLoc]\n",
    "                    else:\n",
    "                        curSubj = url[6:]\n",
    "                    nodeList.append(curSubj)\n",
    "        return nodeList\n",
    "\n",
    "    def getNodes(self):\n",
    "        return self.nodes\n",
    "    def getEdges(self):\n",
    "        return self.edges"
   ]
  },
  {
   "cell_type": "code",
   "execution_count": null,
   "metadata": {},
   "outputs": [],
   "source": [
    "pg = Page('mathematics')\n",
    "pg.findAll(3)\n",
    "\n",
    "print('nodes------------------------------------------------------------------------------------------')\n",
    "print(len(pg.getNodes()))\n",
    "for e in pg.getNodes():\n",
    "    print(e)\n",
    "    \n",
    "print('edges------------------------------------------------------------------------------------------')\n",
    "print(len(pg.getEdges()))\n",
    "for e in pg.getEdges():\n",
    "    print(e)"
   ]
  }
 ],
 "metadata": {
  "kernelspec": {
   "display_name": "Python 3",
   "language": "python",
   "name": "python3"
  },
  "language_info": {
   "codemirror_mode": {
    "name": "ipython",
    "version": 3
   },
   "file_extension": ".py",
   "mimetype": "text/x-python",
   "name": "python",
   "nbconvert_exporter": "python",
   "pygments_lexer": "ipython3",
   "version": "3.6.1"
  }
 },
 "nbformat": 4,
 "nbformat_minor": 2
}
