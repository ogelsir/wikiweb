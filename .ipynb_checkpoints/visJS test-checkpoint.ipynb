{
 "cells": [
  {
   "cell_type": "code",
   "execution_count": null,
   "metadata": {},
   "outputs": [],
   "source": [
    "# !pip install visJS2jupyter\n",
    "\n",
    "# !pip install networkx\n",
    "# !pip install py2cytoscape"
   ]
  },
  {
   "cell_type": "code",
   "execution_count": null,
   "metadata": {},
   "outputs": [],
   "source": [
    "import matplotlib\n",
    "import visJS2jupyter.visJS_module\n",
    "import visJS2jupyter.visualizations"
   ]
  },
  {
   "cell_type": "code",
   "execution_count": null,
   "metadata": {
    "collapsed": true
   },
   "outputs": [],
   "source": [
    "G1 = nx.connected_watts_strogatz_graph(10,5,.1)\n",
    "G2 = nx.connected_watts_strogatz_graph(10,5,.1)\n",
    "old_nodes = range(5)\n",
    "new_nodes = range(10,15)\n",
    "new_node_labels = dict(zip(old_nodes,new_nodes))\n",
    "G2 = nx.relabel_nodes(G2,new_node_labels)\n",
    "visualizations.draw_graph_overlap(G1,G2,edge_width=2)"
   ]
  },
  {
   "cell_type": "code",
   "execution_count": null,
   "metadata": {
    "collapsed": true
   },
   "outputs": [],
   "source": []
  }
 ],
 "metadata": {
  "kernelspec": {
   "display_name": "Python 3",
   "language": "python",
   "name": "python3"
  },
  "language_info": {
   "codemirror_mode": {
    "name": "ipython",
    "version": 3
   },
   "file_extension": ".py",
   "mimetype": "text/x-python",
   "name": "python",
   "nbconvert_exporter": "python",
   "pygments_lexer": "ipython3",
   "version": "3.6.1"
  }
 },
 "nbformat": 4,
 "nbformat_minor": 2
}
