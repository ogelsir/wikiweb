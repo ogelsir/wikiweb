{
 "cells": [
  {
   "cell_type": "code",
   "execution_count": 1,
   "metadata": {
    "collapsed": true
   },
   "outputs": [],
   "source": [
    "import urllib.request\n",
    "from bs4 import BeautifulSoup as bs\n",
    "import re\n",
    "import networkx as nx\n",
    "import matplotlib.pyplot as plt\n",
    "%matplotlib inline\n",
    "import pandas as pd\n",
    "import numpy as np"
   ]
  },
  {
   "cell_type": "code",
   "execution_count": 2,
   "metadata": {
    "collapsed": true
   },
   "outputs": [],
   "source": [
    "class Page:\n",
    "    \n",
    "    def __init__(self, myStart, myStop):\n",
    "        self.start = myStart #myStart is a STRING, representing the name of the start article\n",
    "        self.stop = myStop #myStop is an INT, reprsenting what tier to stop at\n",
    "        self.nodes = []\n",
    "        self.edges = []\n",
    "        self.scores = {} # correlates with nodes\n",
    "        self.mainTags = [] # tags of the start article\n",
    "        self.findAll(myStop)\n",
    "\n",
    "    def findTags(node):\n",
    "        myTags = []\n",
    "        \n",
    "        response = urllib.request.urlopen('https://en.wikipedia.org/wiki/' + node)\n",
    "        html = response.read().decode('utf-8')\n",
    "        seg = re.findall('\\<div id=\"catlinks\".*\\<div', str(html))[0]\n",
    "        soup = bs(seg, 'lxml')\n",
    "        for link in soup.find_all('a', href=True):\n",
    "            url = link.get('href')\n",
    "            if(url.startswith('/wiki/Category:')):\n",
    "                cat = url[15:]\n",
    "                myTags.append(cat)\n",
    "        return myTags\n",
    "    \n",
    "    def tagScore(node1, node2):\n",
    "        tags1 = Page.findTags(node1)\n",
    "        tags2 = Page.findTags(node2)\n",
    "        intersect = len( [x for x in tags1 if x in tags2] )\n",
    "        len1 = len( tags1 )\n",
    "        len2 = len( tags2 )\n",
    "        score = float(intersect)/((len1 + len2)/2)\n",
    "        score = int(score*100)\n",
    "        return score\n",
    "    \n",
    "    def findAll(self, n):\n",
    "        '''\n",
    "        finds all nodes n branches away from center\n",
    "        @param center is a string representing a wikipedia article title\n",
    "        @param n is an int\n",
    "        '''\n",
    "        tier = 0\n",
    "        self.findNext(self.start, 0, n)\n",
    "#         self.mainTags = Page.findTags(str(self))\n",
    "        for string in Page.findTags(self.start):\n",
    "            for word in string.split('_'):\n",
    "                self.mainTags.append(word)\n",
    "\n",
    "    def findNext(self, center, tier, n):\n",
    "        if(tier + 1 < n):\n",
    "            fooNodes = self.findTier(center)\n",
    "            for s in fooNodes:\n",
    "                if( s not in self.nodes):\n",
    "                    self.nodes.append(s)\n",
    "                    self.scores[s] = Page.tagScore(str(self), s)\n",
    "                    self.edges.append( sorted([center, s]))\n",
    "                    self.findNext(s, tier + 1, n)\n",
    "\n",
    "    def findTier(self, center):\n",
    "        '''\n",
    "        finds all nodes 1 branch away from center\n",
    "        @param center is a string representing a wikipedia article title\n",
    "        '''\n",
    "        nodeList = []\n",
    "        response = urllib.request.urlopen('https://en.wikipedia.org/wiki/' + center)\n",
    "        html = response.read()\n",
    "        soup = bs(html,'lxml')\n",
    "        for par in soup.find_all('p'):\n",
    "            for link in par.find_all('a', href=True):\n",
    "                url = link.get('href')\n",
    "                if(url.startswith('/wiki/')) and (':' not in url):\n",
    "                    if('#' in url):\n",
    "                        hashLoc = url.find('#')\n",
    "                        curSubj = url[6:hashLoc]\n",
    "                    else:\n",
    "                        curSubj = url[6:]\n",
    "                    nodeList.append(curSubj)\n",
    "        return nodeList\n",
    "    \n",
    "    def getNodes(self):\n",
    "        return self.nodes\n",
    "    def getEdges(self):\n",
    "        return self.edges\n",
    "    def getMainTags(self):\n",
    "        return self.mainTags\n",
    "    def getScores(self):\n",
    "        return self.scores\n",
    "    \n",
    "    def __str__(self):\n",
    "        return self.start"
   ]
  },
  {
   "cell_type": "code",
   "execution_count": null,
   "metadata": {},
   "outputs": [],
   "source": [
    "sci = Page('science', 2)\n",
    "for elem in sci.getNodes():\n",
    "    print(elem)"
   ]
  },
  {
   "cell_type": "code",
   "execution_count": 4,
   "metadata": {
    "collapsed": true
   },
   "outputs": [],
   "source": [
    "# math = Page('mathematics', 3)"
   ]
  },
  {
   "cell_type": "code",
   "execution_count": 5,
   "metadata": {
    "collapsed": true
   },
   "outputs": [],
   "source": [
    "# lit = Page('literature', 3)"
   ]
  },
  {
   "cell_type": "code",
   "execution_count": 6,
   "metadata": {
    "collapsed": true
   },
   "outputs": [],
   "source": [
    "# hist = Page('history', 3)"
   ]
  },
  {
   "cell_type": "code",
   "execution_count": 7,
   "metadata": {
    "collapsed": true
   },
   "outputs": [],
   "source": [
    "# art = Page('art', 3)"
   ]
  },
  {
   "cell_type": "code",
   "execution_count": 8,
   "metadata": {
    "collapsed": true
   },
   "outputs": [],
   "source": [
    "# cs = Page('computer_science', 3)"
   ]
  }
 ],
 "metadata": {
  "kernelspec": {
   "display_name": "Python 3",
   "language": "python",
   "name": "python3"
  },
  "language_info": {
   "codemirror_mode": {
    "name": "ipython",
    "version": 3
   },
   "file_extension": ".py",
   "mimetype": "text/x-python",
   "name": "python",
   "nbconvert_exporter": "python",
   "pygments_lexer": "ipython3",
   "version": "3.6.1"
  }
 },
 "nbformat": 4,
 "nbformat_minor": 2
}
